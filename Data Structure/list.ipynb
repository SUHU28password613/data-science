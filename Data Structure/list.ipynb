{
 "cells": [
  {
   "cell_type": "code",
   "execution_count": 44,
   "id": "d82181bd",
   "metadata": {},
   "outputs": [
    {
     "name": "stdout",
     "output_type": "stream",
     "text": [
      "['instagram', 'facebook', 'snapchart', 'whatsapp', 'twitter', 'youtube', 'telegram', 'pintrest', 'swiggy', 'zomato', 'nykan']\n"
     ]
    }
   ],
   "source": [
    "apps = ['instagram', 'facebook','snapchart','whatsapp', 'twitter','youtube','telegram','pintrest','swiggy','zomato','nykan']\n",
    "print(apps)"
   ]
  },
  {
   "cell_type": "markdown",
   "id": "a75d8af7",
   "metadata": {},
   "source": [
    "## INDEXING AND SLICING\n",
    "#### Indexing can be positive as well as negative"
   ]
  },
  {
   "cell_type": "code",
   "execution_count": 45,
   "id": "3b13f58e",
   "metadata": {},
   "outputs": [
    {
     "name": "stdout",
     "output_type": "stream",
     "text": [
      "twitter\n",
      "telegram\n",
      "pintrest\n"
     ]
    }
   ],
   "source": [
    "#POSITIVE\n",
    "print(apps[4])\n",
    "print(apps[6])\n",
    "print(apps[7])\n"
   ]
  },
  {
   "cell_type": "markdown",
   "id": "4fcb05b4",
   "metadata": {},
   "source": [
    "#### we  can also use negative indexing when there are multiple of ites in a list  like 1000 or 2000 element list \n",
    "##### always start with -1\n",
    " "
   ]
  },
  {
   "cell_type": "code",
   "execution_count": 46,
   "id": "2da02357",
   "metadata": {},
   "outputs": [
    {
     "name": "stdout",
     "output_type": "stream",
     "text": [
      "pintrest\n",
      "zomato\n"
     ]
    }
   ],
   "source": [
    "#NEGATIVE\n",
    "print(apps[-4])\n",
    "print(apps[-2])\n"
   ]
  },
  {
   "cell_type": "markdown",
   "id": "e2988915",
   "metadata": {},
   "source": [
    "### SLICING  CAN ALSO BE POSITIVE AND NEGATIVE\n"
   ]
  },
  {
   "cell_type": "code",
   "execution_count": 47,
   "id": "cc1b54af",
   "metadata": {},
   "outputs": [
    {
     "name": "stdout",
     "output_type": "stream",
     "text": [
      "['facebook', 'snapchart', 'whatsapp', 'twitter']\n",
      "['facebook', 'whatsapp', 'youtube']\n",
      "['instagram', 'facebook', 'snapchart', 'whatsapp', 'twitter', 'youtube', 'telegram', 'pintrest', 'swiggy', 'zomato', 'nykan']\n",
      "['instagram', 'snapchart', 'twitter', 'telegram', 'swiggy', 'nykan']\n",
      "['telegram', 'pintrest', 'swiggy', 'zomato']\n",
      "['telegram', 'pintrest', 'swiggy', 'zomato', 'nykan']\n"
     ]
    }
   ],
   "source": [
    "print(apps[1:5])\n",
    "print(apps[1:7:2])\n",
    "print(apps[:])\n",
    "print(apps[::2])#positive slicing\n",
    "print(apps[-5:-1])#negative slicing\n",
    "print(apps[-5:])\n"
   ]
  },
  {
   "cell_type": "markdown",
   "id": "78f02b8a",
   "metadata": {},
   "source": [
    "### LIST METHODS\n",
    " - append() - to add item at the end of the list\n",
    " - insert() - to add element at any specific position in the list \n",
    " - pop() - to delete item using its index position \n",
    " - remove() - to delete items using item name\n",
    " - copy() - to make a duplicate of the list \n",
    " - sort() - to sort the list in a particular order \n",
    " - extend() - to combine two list into a single list \n",
    " - clear() - to delete all the  items from the list but not the list \n"
   ]
  },
  {
   "cell_type": "code",
   "execution_count": 48,
   "id": "e49bc63e",
   "metadata": {},
   "outputs": [
    {
     "name": "stdout",
     "output_type": "stream",
     "text": [
      "['instagram', 'facebook', 'snapchart', 'whatsapp', 'twitter', 'youtube', 'telegram', 'pintrest', 'swiggy', 'zomato', 'nykan', 'netflix']\n"
     ]
    }
   ],
   "source": [
    "apps.append('netflix')\n",
    "print(apps)"
   ]
  },
  {
   "cell_type": "code",
   "execution_count": 49,
   "id": "bc4144dc",
   "metadata": {},
   "outputs": [
    {
     "name": "stdout",
     "output_type": "stream",
     "text": [
      "['instagram', 'facebook', 'amazon', 'snapchart', 'whatsapp', 'twitter', 'youtube', 'telegram', 'pintrest', 'swiggy', 'zomato', 'nykan', 'netflix']\n"
     ]
    }
   ],
   "source": [
    "apps.insert(2,'amazon')\n",
    "print(apps)"
   ]
  },
  {
   "cell_type": "code",
   "execution_count": 50,
   "id": "7f5b35d6",
   "metadata": {},
   "outputs": [
    {
     "name": "stdout",
     "output_type": "stream",
     "text": [
      "['instagram', 'facebook', 'snapchart', 'whatsapp', 'twitter', 'youtube', 'telegram', 'pintrest', 'swiggy', 'zomato', 'nykan', 'netflix']\n"
     ]
    }
   ],
   "source": [
    "apps.pop(2)\n",
    "print(apps)"
   ]
  },
  {
   "cell_type": "code",
   "execution_count": 51,
   "id": "eb68e3af",
   "metadata": {},
   "outputs": [
    {
     "name": "stdout",
     "output_type": "stream",
     "text": [
      "['instagram', 'facebook', 'whatsapp', 'twitter', 'youtube', 'telegram', 'pintrest', 'swiggy', 'zomato', 'nykan', 'netflix']\n"
     ]
    }
   ],
   "source": [
    "apps.remove('snapchart')\n",
    "print(apps)"
   ]
  },
  {
   "cell_type": "code",
   "execution_count": 52,
   "id": "4598cc3b",
   "metadata": {},
   "outputs": [
    {
     "name": "stdout",
     "output_type": "stream",
     "text": [
      "['instagram', 'facebook', 'whatsapp', 'twitter', 'youtube', 'telegram', 'pintrest', 'swiggy', 'zomato', 'nykan', 'netflix']\n"
     ]
    }
   ],
   "source": [
    "copy_apps = apps.copy()\n",
    "print(copy_apps)"
   ]
  },
  {
   "cell_type": "code",
   "execution_count": 53,
   "id": "320eb68b",
   "metadata": {},
   "outputs": [
    {
     "name": "stdout",
     "output_type": "stream",
     "text": [
      "[]\n"
     ]
    }
   ],
   "source": [
    "copy_apps.clear()\n",
    "print(copy_apps)"
   ]
  },
  {
   "cell_type": "code",
   "execution_count": 54,
   "id": "7316c99c",
   "metadata": {},
   "outputs": [
    {
     "name": "stdout",
     "output_type": "stream",
     "text": [
      "['facebook', 'instagram', 'netflix', 'nykan', 'pintrest', 'swiggy', 'telegram', 'twitter', 'whatsapp', 'youtube', 'zomato']\n"
     ]
    }
   ],
   "source": [
    "apps.sort()\n",
    "print(apps)"
   ]
  },
  {
   "cell_type": "code",
   "execution_count": 55,
   "id": "c373efe2",
   "metadata": {},
   "outputs": [],
   "source": [
    "apps2 = ['canva','linkdin','threds']\n",
    "apps.extend(apps2)\n"
   ]
  },
  {
   "cell_type": "code",
   "execution_count": 56,
   "id": "eae8dd2d",
   "metadata": {},
   "outputs": [
    {
     "name": "stdout",
     "output_type": "stream",
     "text": [
      "['facebook', 'instagram', 'netflix', 'nykan', 'pintrest', 'swiggy', 'telegram', 'twitter', 'whatsapp', 'youtube', 'zomato', 'canva', 'linkdin', 'threds', 'canva', 'linkdin', 'threds']\n"
     ]
    }
   ],
   "source": [
    "apps.extend(apps2)\n",
    "print(apps)"
   ]
  },
  {
   "cell_type": "code",
   "execution_count": 57,
   "id": "f90c2db6",
   "metadata": {},
   "outputs": [
    {
     "name": "stdout",
     "output_type": "stream",
     "text": [
      "['canva', 'linkdin', 'threds', 'facebook', 'instagram', 'netflix', 'nykan', 'pintrest', 'swiggy', 'telegram', 'twitter', 'whatsapp', 'youtube', 'zomato', 'canva', 'linkdin', 'threds', 'canva', 'linkdin', 'threds']\n"
     ]
    }
   ],
   "source": [
    "apps2.extend(apps)\n",
    "print(apps2)"
   ]
  }
 ],
 "metadata": {
  "kernelspec": {
   "display_name": "base",
   "language": "python",
   "name": "python3"
  },
  "language_info": {
   "codemirror_mode": {
    "name": "ipython",
    "version": 3
   },
   "file_extension": ".py",
   "mimetype": "text/x-python",
   "name": "python",
   "nbconvert_exporter": "python",
   "pygments_lexer": "ipython3",
   "version": "3.13.2"
  }
 },
 "nbformat": 4,
 "nbformat_minor": 5
}
