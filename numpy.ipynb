{
 "cells": [
  {
   "cell_type": "code",
   "execution_count": 97,
   "id": "7efce80a",
   "metadata": {},
   "outputs": [],
   "source": [
    "import numpy as np"
   ]
  },
  {
   "cell_type": "code",
   "execution_count": 98,
   "id": "bc4c6e7d",
   "metadata": {},
   "outputs": [
    {
     "name": "stdout",
     "output_type": "stream",
     "text": [
      "[1 2 3 4 5]\n"
     ]
    }
   ],
   "source": [
    "a = np.array([1,2,3,4,5])\n",
    "print(a)"
   ]
  },
  {
   "cell_type": "code",
   "execution_count": 99,
   "id": "5681db0b",
   "metadata": {},
   "outputs": [
    {
     "data": {
      "text/plain": [
       "numpy.ndarray"
      ]
     },
     "execution_count": 99,
     "metadata": {},
     "output_type": "execute_result"
    }
   ],
   "source": [
    "type(a)"
   ]
  },
  {
   "cell_type": "code",
   "execution_count": 100,
   "id": "93e38764",
   "metadata": {},
   "outputs": [
    {
     "name": "stdout",
     "output_type": "stream",
     "text": [
      "[[ 1  2  3  4  5]\n",
      " [ 6  7  8  9 10]]\n"
     ]
    }
   ],
   "source": [
    "#creating a 2d array\n",
    "a2 = np.array([[1,2,3,4,5],[6,7,8,9,10]])\n",
    "print(a2)"
   ]
  },
  {
   "cell_type": "code",
   "execution_count": 101,
   "id": "ac1eddeb",
   "metadata": {},
   "outputs": [
    {
     "name": "stdout",
     "output_type": "stream",
     "text": [
      "[[[ 1  2  3  4]\n",
      "  [ 5  6  7  8]\n",
      "  [ 9 10 11 12]]\n",
      "\n",
      " [[13 14 15 16]\n",
      "  [17 18 19 20]\n",
      "  [21 22 23 24]]]\n"
     ]
    }
   ],
   "source": [
    "#creating a 3d array\n",
    "a3 = np.array([\n",
    "    [\n",
    "        [1, 2, 3, 4],\n",
    "        [5, 6, 7, 8],\n",
    "        [9, 10, 11, 12]\n",
    "    ],\n",
    "    [\n",
    "        [13, 14, 15, 16],\n",
    "        [17, 18, 19, 20],\n",
    "        [21, 22, 23, 24]\n",
    "    ]\n",
    "])\n",
    "print(a3)"
   ]
  },
  {
   "cell_type": "code",
   "execution_count": 102,
   "id": "a29fa17b",
   "metadata": {},
   "outputs": [
    {
     "name": "stdout",
     "output_type": "stream",
     "text": [
      "(2, 5)\n",
      "2\n",
      "int64\n"
     ]
    }
   ],
   "source": [
    "print(a2.shape)\n",
    "print(a2.ndim)\n",
    "print(a2.dtype)\n"
   ]
  },
  {
   "cell_type": "code",
   "execution_count": 103,
   "id": "a26cc323",
   "metadata": {},
   "outputs": [
    {
     "data": {
      "text/plain": [
       "array([1, 3, 5, 7, 9])"
      ]
     },
     "execution_count": 103,
     "metadata": {},
     "output_type": "execute_result"
    }
   ],
   "source": [
    "np.arange(10)\n",
    "np.arange(1,11)\n",
    "np.arange(1,11,2)"
   ]
  },
  {
   "cell_type": "code",
   "execution_count": 104,
   "id": "79439197",
   "metadata": {},
   "outputs": [
    {
     "data": {
      "text/plain": [
       "array([[3, 2, 2],\n",
       "       [4, 4, 2]], dtype=int32)"
      ]
     },
     "execution_count": 104,
     "metadata": {},
     "output_type": "execute_result"
    }
   ],
   "source": [
    "np.random.randint(1,11,size = (2,3))"
   ]
  },
  {
   "cell_type": "code",
   "execution_count": 105,
   "id": "eb418e3b",
   "metadata": {},
   "outputs": [
    {
     "name": "stdout",
     "output_type": "stream",
     "text": [
      "[[7 2 3]\n",
      " [2 5 2]\n",
      " [3 5 1]]\n",
      "[[1 8 3]\n",
      " [3 7 2]\n",
      " [2 5 3]]\n"
     ]
    }
   ],
   "source": [
    "x = np.array([[7,2,3],\n",
    "              [2,5,2],\n",
    "              [3,5,1]])\n",
    "y = np.array([[1,8,3],\n",
    "              [3,7,2],\n",
    "              [2,5,3]])\n",
    "print(x)\n",
    "print(y)\n"
   ]
  },
  {
   "cell_type": "code",
   "execution_count": 106,
   "id": "6e130085",
   "metadata": {},
   "outputs": [
    {
     "name": "stdout",
     "output_type": "stream",
     "text": [
      "[[ 7 16  9]\n",
      " [ 6 35  4]\n",
      " [ 6 25  3]]\n"
     ]
    }
   ],
   "source": [
    "print(x*y)"
   ]
  },
  {
   "cell_type": "code",
   "execution_count": 107,
   "id": "801ab8c9",
   "metadata": {},
   "outputs": [
    {
     "name": "stdout",
     "output_type": "stream",
     "text": [
      "[[19 85 34]\n",
      " [21 61 22]\n",
      " [20 64 22]]\n"
     ]
    }
   ],
   "source": [
    "print(x@y) #matrix multipication"
   ]
  },
  {
   "cell_type": "code",
   "execution_count": 108,
   "id": "60c0f4de",
   "metadata": {},
   "outputs": [
    {
     "data": {
      "text/plain": [
       "array([[19, 85, 34],\n",
       "       [21, 61, 22],\n",
       "       [20, 64, 22]])"
      ]
     },
     "execution_count": 108,
     "metadata": {},
     "output_type": "execute_result"
    }
   ],
   "source": [
    "np.dot(x,y) #matrix multiplication"
   ]
  },
  {
   "cell_type": "code",
   "execution_count": 109,
   "id": "c26ce73f",
   "metadata": {},
   "outputs": [
    {
     "data": {
      "text/plain": [
       "np.int64(12600)"
      ]
     },
     "execution_count": 109,
     "metadata": {},
     "output_type": "execute_result"
    }
   ],
   "source": [
    "x.prod() #product of all elements of the array"
   ]
  },
  {
   "cell_type": "code",
   "execution_count": 110,
   "id": "9bbfc263",
   "metadata": {},
   "outputs": [
    {
     "data": {
      "text/plain": [
       "np.float64(3.3333333333333335)"
      ]
     },
     "execution_count": 110,
     "metadata": {},
     "output_type": "execute_result"
    }
   ],
   "source": [
    "x.mean() #mean of all elements"
   ]
  },
  {
   "cell_type": "code",
   "execution_count": 111,
   "id": "ca661079",
   "metadata": {},
   "outputs": [
    {
     "data": {
      "text/plain": [
       "np.float64(3.7777777777777777)"
      ]
     },
     "execution_count": 111,
     "metadata": {},
     "output_type": "execute_result"
    }
   ],
   "source": [
    "y.mean()\n"
   ]
  },
  {
   "cell_type": "code",
   "execution_count": 112,
   "id": "819f80ba",
   "metadata": {},
   "outputs": [
    {
     "data": {
      "text/plain": [
       "array([4., 4., 2.])"
      ]
     },
     "execution_count": 112,
     "metadata": {},
     "output_type": "execute_result"
    }
   ],
   "source": [
    "x.mean(axis = 0) #column wise mean"
   ]
  },
  {
   "cell_type": "code",
   "execution_count": 113,
   "id": "109ce92c",
   "metadata": {},
   "outputs": [
    {
     "data": {
      "text/plain": [
       "array([4.        , 4.        , 3.33333333])"
      ]
     },
     "execution_count": 113,
     "metadata": {},
     "output_type": "execute_result"
    }
   ],
   "source": [
    "y.mean(axis = 1 ) #row wise mean"
   ]
  },
  {
   "cell_type": "code",
   "execution_count": 114,
   "id": "55bf1ff9",
   "metadata": {},
   "outputs": [
    {
     "name": "stdout",
     "output_type": "stream",
     "text": [
      "30\n",
      "1.8257418583505538\n",
      "3.3333333333333335\n"
     ]
    }
   ],
   "source": [
    "print(x.sum())\n",
    "print(x.std())\n",
    "print(x.var())"
   ]
  },
  {
   "cell_type": "code",
   "execution_count": 115,
   "id": "577b7783",
   "metadata": {},
   "outputs": [
    {
     "name": "stdout",
     "output_type": "stream",
     "text": [
      "3.0\n",
      "5.0\n",
      "7.0\n"
     ]
    }
   ],
   "source": [
    "a = np.array([1,2,3,4,5,6,7,8,9])\n",
    "print(np.percentile(a,25)) #1st quartile\n",
    "print(np.percentile(a,50)) #median\n",
    "print(np.percentile(a,75)) #3rd quartile"
   ]
  },
  {
   "cell_type": "code",
   "execution_count": 116,
   "id": "0bae661c",
   "metadata": {},
   "outputs": [
    {
     "name": "stdout",
     "output_type": "stream",
     "text": [
      "[[66 66 33 92]\n",
      " [22 55 68 87]\n",
      " [23 98 59 69]\n",
      " [33 52 11 27]]\n"
     ]
    }
   ],
   "source": [
    "b = np.random.randint(11,100,(4,4))\n",
    "print(b)"
   ]
  },
  {
   "cell_type": "code",
   "execution_count": 117,
   "id": "1f51594e",
   "metadata": {},
   "outputs": [
    {
     "name": "stdout",
     "output_type": "stream",
     "text": [
      "2X8\n",
      "[[66 66 33 92 22 55 68 87]\n",
      " [23 98 59 69 33 52 11 27]]\n",
      "8X2\n",
      "[[66 66]\n",
      " [33 92]\n",
      " [22 55]\n",
      " [68 87]\n",
      " [23 98]\n",
      " [59 69]\n",
      " [33 52]\n",
      " [11 27]]\n"
     ]
    }
   ],
   "source": [
    "print('2X8')\n",
    "print(b.reshape(2,8))\n",
    "print('8X2')\n",
    "print(b.reshape(8,2))"
   ]
  },
  {
   "cell_type": "code",
   "execution_count": 118,
   "id": "f21e0554",
   "metadata": {},
   "outputs": [
    {
     "name": "stdout",
     "output_type": "stream",
     "text": [
      "[[ 1  9  8  1  2]\n",
      " [ 1  6  4  8  9]\n",
      " [ 4  1  7  4 10]\n",
      " [ 8  8  9 10  1]\n",
      " [ 2  3  6  1  3]]\n"
     ]
    }
   ],
   "source": [
    "x  = np.random.randint(1,11,(5,5))\n",
    "print(x)"
   ]
  },
  {
   "cell_type": "code",
   "execution_count": 119,
   "id": "a4d47145",
   "metadata": {},
   "outputs": [
    {
     "name": "stdout",
     "output_type": "stream",
     "text": [
      "[1 9 8 1 2]\n",
      "9\n",
      "[2 3 6 1 3]\n",
      "[[ 1  9  8  1  2]\n",
      " [ 1  6  4  8  9]\n",
      " [ 4  1  7  4 10]]\n",
      "[[ 8  8  9 10  1]\n",
      " [ 2  3  6  1  3]]\n"
     ]
    }
   ],
   "source": [
    "print(x[0]) #1st row\n",
    "print(x[0,1]) #1st row and 2nd column's first element\n",
    "print(x[-1])\n",
    "\n",
    "\n",
    "print(x[:3])\n",
    "print(x[3:])\n"
   ]
  }
 ],
 "metadata": {
  "kernelspec": {
   "display_name": "base",
   "language": "python",
   "name": "python3"
  },
  "language_info": {
   "codemirror_mode": {
    "name": "ipython",
    "version": 3
   },
   "file_extension": ".py",
   "mimetype": "text/x-python",
   "name": "python",
   "nbconvert_exporter": "python",
   "pygments_lexer": "ipython3",
   "version": "3.13.2"
  }
 },
 "nbformat": 4,
 "nbformat_minor": 5
}
