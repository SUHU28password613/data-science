{
 "cells": [
  {
   "cell_type": "code",
   "execution_count": 63,
   "id": "d152c7d3",
   "metadata": {},
   "outputs": [],
   "source": [
    "from sqlalchemy import create_engine, Column, Integer, String\n",
    "from sqlalchemy.orm import declarative_base, sessionmaker"
   ]
  },
  {
   "cell_type": "markdown",
   "id": "c5529152",
   "metadata": {},
   "source": [
    "- create_engine: It is used to make connection from the database\n",
    "- column : It defines columns in database\n",
    "- integers and string: datatype of values in database"
   ]
  },
  {
   "cell_type": "code",
   "execution_count": 64,
   "id": "b99b2008",
   "metadata": {},
   "outputs": [],
   "source": [
    "engine = create_engine('sqlite:///user.db')\n",
    "\n"
   ]
  },
  {
   "cell_type": "code",
   "execution_count": 65,
   "id": "57e68b67",
   "metadata": {},
   "outputs": [],
   "source": [
    "\n",
    "#this line is needed to create the table \n",
    "Base = declarative_base()\n"
   ]
  },
  {
   "cell_type": "code",
   "execution_count": 66,
   "id": "c322d286",
   "metadata": {},
   "outputs": [],
   "source": [
    "class User(Base):\n",
    "    __tablename__='user'\n",
    "    id = Column(Integer, primary_key=True)\n",
    "    name = Column(String)\n",
    "    password = Column(String)"
   ]
  },
  {
   "cell_type": "code",
   "execution_count": 67,
   "id": "f523853b",
   "metadata": {},
   "outputs": [],
   "source": [
    "Base.metadata.create_all(engine)"
   ]
  },
  {
   "cell_type": "code",
   "execution_count": 68,
   "id": "bcb001a1",
   "metadata": {},
   "outputs": [],
   "source": [
    "Session = sessionmaker(bind=engine)#this line tells the sessionmaker to use the engine we created\n",
    "session = Session() #this line create a session object  "
   ]
  },
  {
   "cell_type": "code",
   "execution_count": 69,
   "id": "37310831",
   "metadata": {},
   "outputs": [],
   "source": [
    "#add a new user \n",
    "new_user = User(name = 'Alice', password = '2736')\n",
    "session.add(new_user)\n",
    "session.commit()"
   ]
  },
  {
   "cell_type": "code",
   "execution_count": 70,
   "id": "cefd93d7",
   "metadata": {},
   "outputs": [],
   "source": [
    "#add a new user \n",
    "new_user = User(name = 'John', password = '2736')\n",
    "session.add(new_user)\n",
    "session.commit()"
   ]
  },
  {
   "cell_type": "code",
   "execution_count": 71,
   "id": "16405256",
   "metadata": {},
   "outputs": [
    {
     "name": "stdout",
     "output_type": "stream",
     "text": [
      "ID:1,Name:Jhon Smith,Password:1234\n",
      "ID:2,Name:Alice,Password:2736\n",
      "ID:3,Name:alice,Password:2736\n",
      "ID:4,Name:alice,Password:2736\n",
      "ID:5,Name:Alice,Password:2736\n",
      "ID:6,Name:John,Password:2736\n",
      "ID:7,Name:Alice,Password:2736\n",
      "ID:8,Name:John,Password:2736\n",
      "ID:9,Name:Alice,Password:2736\n",
      "ID:10,Name:John,Password:2736\n",
      "ID:11,Name:Alice,Password:2736\n",
      "ID:12,Name:John,Password:2736\n",
      "ID:13,Name:Alice,Password:2736\n",
      "ID:14,Name:John,Password:2736\n"
     ]
    }
   ],
   "source": [
    "#retrive all users\n",
    "users = session.query(User).all()\n",
    "for user in users:\n",
    "    print(f'ID:{user.id},Name:{user.name},Password:{user.password}')"
   ]
  },
  {
   "cell_type": "code",
   "execution_count": 72,
   "id": "78a772f9",
   "metadata": {},
   "outputs": [],
   "source": [
    "#update the user \n",
    "user = session.query(User).filter_by(id= 1).first()\n",
    "user.name = 'Jhon Smith'\n",
    "session.commit()"
   ]
  },
  {
   "cell_type": "code",
   "execution_count": 73,
   "id": "ee5b51fc",
   "metadata": {},
   "outputs": [
    {
     "name": "stdout",
     "output_type": "stream",
     "text": [
      "ID:1,Name:Jhon Smith,Password:1234\n",
      "ID:2,Name:Alice,Password:2736\n",
      "ID:3,Name:alice,Password:2736\n",
      "ID:4,Name:alice,Password:2736\n",
      "ID:5,Name:Alice,Password:2736\n",
      "ID:6,Name:John,Password:2736\n",
      "ID:7,Name:Alice,Password:2736\n",
      "ID:8,Name:John,Password:2736\n",
      "ID:9,Name:Alice,Password:2736\n",
      "ID:10,Name:John,Password:2736\n",
      "ID:11,Name:Alice,Password:2736\n",
      "ID:12,Name:John,Password:2736\n",
      "ID:13,Name:Alice,Password:2736\n",
      "ID:14,Name:John,Password:2736\n"
     ]
    }
   ],
   "source": [
    "#retrive all users\n",
    "users = session.query(User).all()\n",
    "for user in users:\n",
    "    print(f'ID:{user.id},Name:{user.name},Password:{user.password}')"
   ]
  },
  {
   "cell_type": "code",
   "execution_count": 74,
   "id": "8ed93e0f",
   "metadata": {},
   "outputs": [],
   "source": [
    "#delet the user\n",
    "user = session.query(User).filter_by(id= 1).first()\n",
    "session.delete(user)\n",
    "session.commit()"
   ]
  },
  {
   "cell_type": "code",
   "execution_count": 75,
   "id": "d60fa8d8",
   "metadata": {},
   "outputs": [
    {
     "name": "stdout",
     "output_type": "stream",
     "text": [
      "ID:2,Name:Alice,Password:2736\n",
      "ID:3,Name:alice,Password:2736\n",
      "ID:4,Name:alice,Password:2736\n",
      "ID:5,Name:Alice,Password:2736\n",
      "ID:6,Name:John,Password:2736\n",
      "ID:7,Name:Alice,Password:2736\n",
      "ID:8,Name:John,Password:2736\n",
      "ID:9,Name:Alice,Password:2736\n",
      "ID:10,Name:John,Password:2736\n",
      "ID:11,Name:Alice,Password:2736\n",
      "ID:12,Name:John,Password:2736\n",
      "ID:13,Name:Alice,Password:2736\n",
      "ID:14,Name:John,Password:2736\n"
     ]
    }
   ],
   "source": [
    "#retrive all users\n",
    "users = session.query(User).all()\n",
    "for user in users:\n",
    "    print(f'ID:{user.id},Name:{user.name},Password:{user.password}')"
   ]
  }
 ],
 "metadata": {
  "kernelspec": {
   "display_name": "base",
   "language": "python",
   "name": "python3"
  },
  "language_info": {
   "codemirror_mode": {
    "name": "ipython",
    "version": 3
   },
   "file_extension": ".py",
   "mimetype": "text/x-python",
   "name": "python",
   "nbconvert_exporter": "python",
   "pygments_lexer": "ipython3",
   "version": "3.13.2"
  }
 },
 "nbformat": 4,
 "nbformat_minor": 5
}
