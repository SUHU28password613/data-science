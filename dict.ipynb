{
 "cells": [
  {
   "cell_type": "markdown",
   "id": "e8ff6e0c",
   "metadata": {},
   "source": [
    "- how to create dictionary\n",
    "- how to acces pairs in dictionary\n",
    "- how to run a loop in dictionary \n",
    "- how to make a nested dictionary\n",
    "- indexing and slicing\n"
   ]
  },
  {
   "cell_type": "code",
   "execution_count": 57,
   "id": "33448301",
   "metadata": {},
   "outputs": [
    {
     "name": "stdout",
     "output_type": "stream",
     "text": [
      "{'name': 'suhani', 'age': 22, 'course': 'Python with data science', 'marks': 55}\n"
     ]
    }
   ],
   "source": [
    "student =  {\n",
    "    \"name\" : \"suhani\",\n",
    "    \"age\" : 22,\n",
    "    \"course\" : \"Python with data science\",\n",
    "    \"marks\" : 55\n",
    "}\n",
    "print(student)\n",
    "\n"
   ]
  },
  {
   "cell_type": "code",
   "execution_count": 58,
   "id": "1ae0603e",
   "metadata": {},
   "outputs": [
    {
     "name": "stdout",
     "output_type": "stream",
     "text": [
      "{'name': 'Suhani Mishra', 'age': 22, 'course': 'Python with data science', 'marks': 55}\n"
     ]
    }
   ],
   "source": [
    "#user inut\n",
    "student =  {\n",
    "    \"name\" : input(\"enter a name :\"),\n",
    "    \"age\" : 22,\n",
    "    \"course\" : \"Python with data science\",\n",
    "    \"marks\" : 55\n",
    "}\n",
    "print(student)"
   ]
  },
  {
   "cell_type": "code",
   "execution_count": 59,
   "id": "8b425c3a",
   "metadata": {},
   "outputs": [
    {
     "name": "stdout",
     "output_type": "stream",
     "text": [
      "{'name': 'Suhani Mishra', 'age': 20, 'course': 'mba', 'marks': 80}\n"
     ]
    }
   ],
   "source": [
    "info = dict (name = \"Suhani Mishra\", age = 20, course = \"mba\", marks = 80)\n",
    "print(info)"
   ]
  },
  {
   "cell_type": "code",
   "execution_count": 60,
   "id": "74b89dcb",
   "metadata": {},
   "outputs": [
    {
     "name": "stdout",
     "output_type": "stream",
     "text": [
      "{'name': 'Suhani Mishra', 'age': 20, 'course': 'mba', 'marks': 80}\n"
     ]
    }
   ],
   "source": [
    "#user inut\n",
    "info = dict (name = input (\"enter a name\"), age = 20, course = \"mba\", marks = 80)\n",
    "print(info)"
   ]
  },
  {
   "cell_type": "code",
   "execution_count": 61,
   "id": "5354a2f7",
   "metadata": {},
   "outputs": [
    {
     "name": "stdout",
     "output_type": "stream",
     "text": [
      "{'lucknow': [30, 35, 48], 'delhi': [40, 45, 50], 'chennai': [28, 55, 60]}\n"
     ]
    }
   ],
   "source": [
    "temp = {\n",
    "    'lucknow': [30,35,48],\n",
    "    'delhi': [40,45,50],\n",
    "    'chennai': [28,55,60]\n",
    "    }\n",
    "print(temp)"
   ]
  },
  {
   "cell_type": "code",
   "execution_count": 62,
   "id": "a2f7985b",
   "metadata": {},
   "outputs": [
    {
     "name": "stdout",
     "output_type": "stream",
     "text": [
      "Suhani Mishra\n"
     ]
    }
   ],
   "source": [
    "#1st method to access value\n",
    "print(student[\"name\"])\n"
   ]
  },
  {
   "cell_type": "code",
   "execution_count": 63,
   "id": "d7fc909b",
   "metadata": {},
   "outputs": [
    {
     "name": "stdout",
     "output_type": "stream",
     "text": [
      "Suhani Mishra\n"
     ]
    }
   ],
   "source": [
    "#2 method to access value      \n",
    "print(student.get(\"name\"))\n"
   ]
  },
  {
   "cell_type": "code",
   "execution_count": 64,
   "id": "9969d0ef",
   "metadata": {},
   "outputs": [
    {
     "name": "stdout",
     "output_type": "stream",
     "text": [
      "{'name': 'Suhani Mishra', 'age': 22, 'course': 'Python with data science', 'marks': 55, 'city': 'lucknow'}\n"
     ]
    }
   ],
   "source": [
    "#adding new key value pairs in dictionary\n",
    "student[\"city\"]= \"lucknow\"\n",
    "print(student)"
   ]
  },
  {
   "cell_type": "code",
   "execution_count": 65,
   "id": "6ffda292",
   "metadata": {},
   "outputs": [
    {
     "name": "stdout",
     "output_type": "stream",
     "text": [
      "name\n",
      "age\n",
      "course\n",
      "marks\n",
      "city\n"
     ]
    }
   ],
   "source": [
    "#for loop to print keys\n",
    "for i in student:\n",
    "    print(i)"
   ]
  },
  {
   "cell_type": "code",
   "execution_count": 66,
   "id": "11740889",
   "metadata": {},
   "outputs": [
    {
     "name": "stdout",
     "output_type": "stream",
     "text": [
      "name: Suhani Mishra\n",
      "age: 22\n",
      "course: Python with data science\n",
      "marks: 55\n",
      "city: lucknow\n"
     ]
    }
   ],
   "source": [
    "#for loop to pint values\n",
    "for i,j in student.items():\n",
    "    print(f'{i}: {j}')"
   ]
  },
  {
   "cell_type": "code",
   "execution_count": 67,
   "id": "b76c7e2e",
   "metadata": {},
   "outputs": [
    {
     "name": "stdout",
     "output_type": "stream",
     "text": [
      "dict_keys(['name', 'age', 'course', 'marks', 'city'])\n",
      "dict_values(['Suhani Mishra', 22, 'Python with data science', 55, 'lucknow'])\n",
      "dict_items([('name', 'Suhani Mishra'), ('age', 22), ('course', 'Python with data science'), ('marks', 55), ('city', 'lucknow')])\n"
     ]
    }
   ],
   "source": [
    "print(student.keys())\n",
    "print(student.values())\n",
    "print(student.items())"
   ]
  },
  {
   "cell_type": "markdown",
   "id": "d686279f",
   "metadata": {},
   "source": [
    "### Nested dictionary"
   ]
  },
  {
   "cell_type": "code",
   "execution_count": 68,
   "id": "bc75586b",
   "metadata": {},
   "outputs": [
    {
     "name": "stdout",
     "output_type": "stream",
     "text": [
      "{'emp001': {'name': 'Suhani Mishra', 'dept': 'Fiance', 'salary': 50000}, 'emp002': {'name': 'Bob', 'dept': 'Marketing', 'salary': 45000}, 'emp003': {'name': 'Smith', 'dept': 'IT', 'salary': 70000}, 'emp004': {'name': 'John', 'dept': 'HR', 'salary': 60000}}\n"
     ]
    }
   ],
   "source": [
    "company = {\n",
    "    'emp001': {\n",
    "        'name': 'Suhani Mishra',\n",
    "        'dept' : 'Fiance',\n",
    "        'salary' : 50000\n",
    "    },\n",
    "    'emp002': {\n",
    "        'name': 'Bob',\n",
    "        'dept' : 'Marketing',\n",
    "        'salary' : 45000\n",
    "    },\n",
    "    'emp003': {\n",
    "        'name': 'Smith',\n",
    "        'dept' : 'IT',\n",
    "        'salary' : 70000\n",
    "    },\n",
    "    'emp004': {\n",
    "        'name':  'John',\n",
    "        'dept': 'HR',\n",
    "        'salary':  60000\n",
    "    },\n",
    "}\n",
    "print(company)\n",
    "\n",
    "\n"
   ]
  },
  {
   "cell_type": "code",
   "execution_count": 69,
   "id": "73f1d3a0",
   "metadata": {},
   "outputs": [],
   "source": [
    "from pprint import pprint"
   ]
  },
  {
   "cell_type": "code",
   "execution_count": 70,
   "id": "fca99f8d",
   "metadata": {},
   "outputs": [
    {
     "name": "stdout",
     "output_type": "stream",
     "text": [
      "{'emp001': {'dept': 'Fiance', 'name': 'Suhani Mishra', 'salary': 50000},\n",
      " 'emp002': {'dept': 'Marketing', 'name': 'Bob', 'salary': 45000},\n",
      " 'emp003': {'dept': 'IT', 'name': 'Smith', 'salary': 70000},\n",
      " 'emp004': {'dept': 'HR', 'name': 'John', 'salary': 60000}}\n"
     ]
    }
   ],
   "source": [
    "pprint(company)"
   ]
  },
  {
   "cell_type": "code",
   "execution_count": 71,
   "id": "c5ea9e2a",
   "metadata": {},
   "outputs": [
    {
     "data": {
      "text/plain": [
       "'Marketing'"
      ]
     },
     "execution_count": 71,
     "metadata": {},
     "output_type": "execute_result"
    }
   ],
   "source": [
    "company['emp002']['dept']"
   ]
  },
  {
   "cell_type": "code",
   "execution_count": 77,
   "id": "c062bac8",
   "metadata": {},
   "outputs": [
    {
     "name": "stdout",
     "output_type": "stream",
     "text": [
      "37.666666666666664\n"
     ]
    }
   ],
   "source": [
    "print(sum(temp['lucknow'])/len(temp['lucknow']))"
   ]
  }
 ],
 "metadata": {
  "kernelspec": {
   "display_name": "base",
   "language": "python",
   "name": "python3"
  },
  "language_info": {
   "codemirror_mode": {
    "name": "ipython",
    "version": 3
   },
   "file_extension": ".py",
   "mimetype": "text/x-python",
   "name": "python",
   "nbconvert_exporter": "python",
   "pygments_lexer": "ipython3",
   "version": "3.13.2"
  }
 },
 "nbformat": 4,
 "nbformat_minor": 5
}
