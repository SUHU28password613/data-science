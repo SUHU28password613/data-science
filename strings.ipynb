{
 "cells": [
  {
   "cell_type": "code",
   "execution_count": 4,
   "id": "eca50da5",
   "metadata": {},
   "outputs": [
    {
     "name": "stdout",
     "output_type": "stream",
     "text": [
      "My name is suhani\n"
     ]
    }
   ],
   "source": [
    "name = \"My name is suhani\"\n",
    "print (name)\n"
   ]
  },
  {
   "cell_type": "code",
   "execution_count": 6,
   "id": "c4a84cde",
   "metadata": {},
   "outputs": [
    {
     "name": "stdout",
     "output_type": "stream",
     "text": [
      "M\n",
      "y\n",
      " \n",
      "n\n",
      "a\n",
      "m\n",
      "e\n",
      " \n",
      "i\n",
      "s\n",
      " \n",
      "s\n",
      "u\n",
      "h\n",
      "a\n",
      "n\n",
      "i\n"
     ]
    }
   ],
   "source": [
    "for i in name:\n",
    "    print(i)\n"
   ]
  },
  {
   "cell_type": "code",
   "execution_count": 7,
   "id": "793c3fda",
   "metadata": {},
   "outputs": [
    {
     "name": "stdout",
     "output_type": "stream",
     "text": [
      "My name is suhani"
     ]
    }
   ],
   "source": [
    "for i in name:\n",
    "    print(i, end='')\n"
   ]
  },
  {
   "cell_type": "code",
   "execution_count": 9,
   "id": "8e91abfa",
   "metadata": {},
   "outputs": [
    {
     "name": "stdout",
     "output_type": "stream",
     "text": [
      "s\n"
     ]
    }
   ],
   "source": [
    "print(name[11])"
   ]
  },
  {
   "cell_type": "code",
   "execution_count": 8,
   "id": "172b737e",
   "metadata": {},
   "outputs": [
    {
     "name": "stdout",
     "output_type": "stream",
     "text": [
      "suhan\n",
      "suhani\n"
     ]
    }
   ],
   "source": [
    "print(name[11:16])\n",
    "print(name[11:])"
   ]
  },
  {
   "cell_type": "code",
   "execution_count": 13,
   "id": "f02cb167",
   "metadata": {},
   "outputs": [
    {
     "name": "stdout",
     "output_type": "stream",
     "text": [
      "2030\n"
     ]
    }
   ],
   "source": [
    "#string concatenation \n",
    "a = \"20\"\n",
    "b = \"30\"\n",
    "print(a+b)"
   ]
  },
  {
   "cell_type": "code",
   "execution_count": 14,
   "id": "586c7504",
   "metadata": {},
   "outputs": [
    {
     "name": "stdout",
     "output_type": "stream",
     "text": [
      "hihihihihi\n"
     ]
    }
   ],
   "source": [
    "#string duplication\n",
    "a = 'hi'\n",
    "print(a*5)"
   ]
  },
  {
   "cell_type": "code",
   "execution_count": 15,
   "id": "71f53933",
   "metadata": {},
   "outputs": [
    {
     "data": {
      "text/plain": [
       "'BEAUTIFUL'"
      ]
     },
     "execution_count": 15,
     "metadata": {},
     "output_type": "execute_result"
    }
   ],
   "source": [
    "word = 'beautiful'\n",
    "word.upper()"
   ]
  },
  {
   "cell_type": "code",
   "execution_count": 16,
   "id": "854bfbd0",
   "metadata": {},
   "outputs": [
    {
     "data": {
      "text/plain": [
       "'beautiful'"
      ]
     },
     "execution_count": 16,
     "metadata": {},
     "output_type": "execute_result"
    }
   ],
   "source": [
    "word.lower()"
   ]
  },
  {
   "cell_type": "code",
   "execution_count": null,
   "id": "59df0291",
   "metadata": {},
   "outputs": [
    {
     "data": {
      "text/plain": [
       "'Beautiful'"
      ]
     },
     "execution_count": 17,
     "metadata": {},
     "output_type": "execute_result"
    }
   ],
   "source": [
    "word.capitalize()#pehle word ke pehle letter ko capital karega"
   ]
  },
  {
   "cell_type": "code",
   "execution_count": 21,
   "id": "0c42e021",
   "metadata": {},
   "outputs": [
    {
     "name": "stdout",
     "output_type": "stream",
     "text": [
      "jhonny jhonny yes papa \n",
      "eating sugar no papa\n",
      "telling a lies no papa\n",
      "open your mouth ha ha ha \n"
     ]
    }
   ],
   "source": [
    "poem = '''jhonny jhonny yes papa \n",
    "eating sugar no papa\n",
    "telling a lies no papa\n",
    "open your mouth ha ha ha '''\n",
    "print(poem)\n",
    "\n"
   ]
  },
  {
   "cell_type": "code",
   "execution_count": 22,
   "id": "0b2ec86e",
   "metadata": {},
   "outputs": [
    {
     "data": {
      "text/plain": [
       "18"
      ]
     },
     "execution_count": 22,
     "metadata": {},
     "output_type": "execute_result"
    }
   ],
   "source": [
    "poem.find('papa')"
   ]
  },
  {
   "cell_type": "code",
   "execution_count": 23,
   "id": "772eba9b",
   "metadata": {},
   "outputs": [
    {
     "name": "stdout",
     "output_type": "stream",
     "text": [
      "jhonny jhonny yes mumma \n",
      "eating poison no mumma\n",
      "telling a lies no mumma\n",
      "open your mouth ha ha ha \n"
     ]
    }
   ],
   "source": [
    "p = poem.replace('papa','mumma').replace('sugar','poison')\n",
    "print(p)"
   ]
  },
  {
   "cell_type": "code",
   "execution_count": null,
   "id": "2dbbf731",
   "metadata": {},
   "outputs": [
    {
     "data": {
      "text/plain": [
       "['My', 'name', 'is', 'suhani']"
      ]
     },
     "execution_count": 24,
     "metadata": {},
     "output_type": "execute_result"
    }
   ],
   "source": [
    "name.split()#list of words bana dega"
   ]
  },
  {
   "cell_type": "code",
   "execution_count": 25,
   "id": "ee083518",
   "metadata": {},
   "outputs": [
    {
     "data": {
      "text/plain": [
       "['jhonny jhonny yes mumma ',\n",
       " 'eating poison no mumma',\n",
       " 'telling a lies no mumma',\n",
       " 'open your mouth ha ha ha ']"
      ]
     },
     "execution_count": 25,
     "metadata": {},
     "output_type": "execute_result"
    }
   ],
   "source": [
    "p.splitlines()"
   ]
  }
 ],
 "metadata": {
  "kernelspec": {
   "display_name": "base",
   "language": "python",
   "name": "python3"
  },
  "language_info": {
   "codemirror_mode": {
    "name": "ipython",
    "version": 3
   },
   "file_extension": ".py",
   "mimetype": "text/x-python",
   "name": "python",
   "nbconvert_exporter": "python",
   "pygments_lexer": "ipython3",
   "version": "3.13.2"
  }
 },
 "nbformat": 4,
 "nbformat_minor": 5
}
