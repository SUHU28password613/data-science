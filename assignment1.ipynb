{
 "cells": [
  {
   "cell_type": "code",
   "execution_count": null,
   "id": "39712544",
   "metadata": {},
   "outputs": [
    {
     "name": "stdout",
     "output_type": "stream",
     "text": [
      "Two sides of triangle are  equal\n"
     ]
    }
   ],
   "source": [
    "#check whether the two sides of a triangle is equal or not\n",
    "a = input (\"Enter first side of triangle:\")\n",
    "b = input (\"Enter second side of a triangle:\")\n",
    "if a==b:\n",
    "    print (\"Two sides of triangle are  equal\")\n",
    "else:\n",
    "    print (\"Two sides of triangle are not  equal\")\n"
   ]
  },
  {
   "cell_type": "code",
   "execution_count": 8,
   "id": "06dc6464",
   "metadata": {},
   "outputs": [
    {
     "name": "stdout",
     "output_type": "stream",
     "text": [
      "The triangle is an Equilateral triangle.\n"
     ]
    }
   ],
   "source": [
    "\n",
    "# check wheter a triangle is an equivalent triangle  or isosceles triangle\n",
    "side1 = input(\"Enter the first side of the triangle: \")\n",
    "side2 = input(\"Enter the second side of the triangle: \")\n",
    "side3 = input(\"Enter the third side of the triangle: \")\n",
    "\n",
    "\n",
    "if side1 == side2 and side2 == side3:\n",
    "    print(\"The triangle is an Equilateral triangle.\")\n",
    "elif side1 == side2 and side2 != side3:\n",
    "    print(\"The triangle is an Isosceles triangle.\")\n",
    "else:\n",
    "    print(\"The triangle is neither Equilateral nor Isosceles.\")"
   ]
  },
  {
   "cell_type": "code",
   "execution_count": 9,
   "id": "c5e2f722",
   "metadata": {},
   "outputs": [
    {
     "name": "stdout",
     "output_type": "stream",
     "text": [
      "Vowel\n"
     ]
    }
   ],
   "source": [
    "# check whether a character entered by the user is vowel or not\n",
    "x = input(\"Enter a character: \")\n",
    "\n",
    "if (x == 'a' or x == 'A' or x == 'e' or  x == 'E'  or\n",
    "        x == 'i' or  x == 'I' or x == 'o' or  x == 'O' or x == 'u' or  x == 'U') :\n",
    "        print(\"Vowel\")\n",
    "else:\n",
    "        print(\"Consonant\")\n"
   ]
  },
  {
   "cell_type": "code",
   "execution_count": null,
   "id": "a6084d3f",
   "metadata": {},
   "outputs": [
    {
     "name": "stdout",
     "output_type": "stream",
     "text": [
      "not a leap year\n"
     ]
    }
   ],
   "source": [
    "# check wheter a year is a leap year or not\n",
    "\n",
    "year = int (input (\"Enter a year:\"))\n",
    "\n",
    "if  (year % 4 == 0 and year %100 != 0 or year % 400 == 0) :\n",
    "    print (\"leap year\")\n",
    "else :\n",
    "    print (\"not a leap year\")\n",
    "     "
   ]
  },
  {
   "cell_type": "code",
   "execution_count": 11,
   "id": "caa7bcb1",
   "metadata": {},
   "outputs": [
    {
     "name": "stdout",
     "output_type": "stream",
     "text": [
      "Odd number\n"
     ]
    }
   ],
   "source": [
    "# check wheter a number is a even  or odd\n",
    "number = int(input(\"Enter a number: \"))\n",
    "if number % 2 == 0:\n",
    "    print (\"Even  number\")\n",
    "else:\n",
    "    print (\"Odd number\")\n",
    " "
   ]
  },
  {
   "cell_type": "code",
   "execution_count": 1,
   "id": "b8d21bbb",
   "metadata": {},
   "outputs": [
    {
     "name": "stdout",
     "output_type": "stream",
     "text": [
      "Basic Salary: 55\n",
      "HRA (5%): 2.75\n",
      "DA (10%): 5.5\n",
      "Gross Salary: 63.25\n"
     ]
    }
   ],
   "source": [
    "# calculate the gross salary of an employee where the basic salary is 50 ,000, HRA  is 5% of basic salary and DA IS 10% of basic salary\n",
    "basic_salary = int (input (\"Enter a value:\"))\n",
    "\n",
    "\n",
    "hra = 0.05 * basic_salary\n",
    "da = 0.10 * basic_salary\n",
    "\n",
    "\n",
    "gross_salary = basic_salary + hra + da\n",
    "\n",
    "print(\"Basic Salary:\", basic_salary)\n",
    "print(\"HRA (5%):\", hra)\n",
    "print(\"DA (10%):\", da)\n",
    "print(\"Gross Salary:\", gross_salary)"
   ]
  }
 ],
 "metadata": {
  "kernelspec": {
   "display_name": "base",
   "language": "python",
   "name": "python3"
  },
  "language_info": {
   "codemirror_mode": {
    "name": "ipython",
    "version": 3
   },
   "file_extension": ".py",
   "mimetype": "text/x-python",
   "name": "python",
   "nbconvert_exporter": "python",
   "pygments_lexer": "ipython3",
   "version": "3.13.2"
  }
 },
 "nbformat": 4,
 "nbformat_minor": 5
}
