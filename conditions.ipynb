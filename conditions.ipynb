{
 "cells": [
  {
   "cell_type": "code",
   "execution_count": 25,
   "id": "eedba725",
   "metadata": {},
   "outputs": [
    {
     "name": "stdout",
     "output_type": "stream",
     "text": [
      "hello\n",
      "world\n"
     ]
    }
   ],
   "source": [
    "a = 12\n",
    "if a>10:\n",
    "    print(\"hello\")\n",
    "    print(\"world\")\n"
   ]
  },
  {
   "cell_type": "code",
   "execution_count": 26,
   "id": "f1675f45",
   "metadata": {},
   "outputs": [
    {
     "name": "stdout",
     "output_type": "stream",
     "text": [
      "hello\n",
      "world\n",
      "done\n"
     ]
    }
   ],
   "source": [
    "a = 12\n",
    "if a>10:\n",
    "    print(\"hello\")\n",
    "    print(\"world\")\n",
    "\n",
    "print (\"done\")#but done is not a part of that  code because of the incomplete indentation"
   ]
  },
  {
   "cell_type": "code",
   "execution_count": 27,
   "id": "71357dfe",
   "metadata": {},
   "outputs": [
    {
     "name": "stdout",
     "output_type": "stream",
     "text": [
      "A\n",
      "B\n"
     ]
    }
   ],
   "source": [
    "marks = 85\n",
    "if marks >= 90:\n",
    "    print(\"A++\")\n",
    "if marks >= 80:\n",
    "    print(\"A\")\n",
    "if marks >= 60:\n",
    "    print(\"B\")\n",
    "if marks < 60:\n",
    "    print(\"Fail\")\n",
    "    \n"
   ]
  },
  {
   "cell_type": "code",
   "execution_count": 28,
   "id": "693c08d9",
   "metadata": {},
   "outputs": [
    {
     "name": "stdout",
     "output_type": "stream",
     "text": [
      "A\n"
     ]
    }
   ],
   "source": [
    "marks = 85\n",
    "if marks >= 90:\n",
    "    print(\"A++\")\n",
    "elif marks >= 80:\n",
    "    print(\"A\")\n",
    "elif marks >= 60:\n",
    "    print(\"B\")\n",
    "elif marks < 60:\n",
    "    print(\"Fail\")\n",
    "else:\n",
    "    print(\"Invalid marks\")"
   ]
  },
  {
   "cell_type": "code",
   "execution_count": 29,
   "id": "10ee89c9",
   "metadata": {},
   "outputs": [],
   "source": [
    "marks = 85\n",
    "if marks >= 90:\n",
    "    print(\"A++\")\n",
    "if marks <= 80:\n",
    "    print(\"A\")\n",
    "if marks <= 60:\n",
    "    print(\"B\")\n",
    "if marks < 60:\n",
    "    print(\"Fail\")\n",
    "    \n"
   ]
  },
  {
   "cell_type": "code",
   "execution_count": 30,
   "id": "7631939b",
   "metadata": {},
   "outputs": [
    {
     "name": "stdout",
     "output_type": "stream",
     "text": [
      "Invalid marks\n"
     ]
    }
   ],
   "source": [
    "marks = 85\n",
    "if marks >= 90:\n",
    "    print(\"A++\")\n",
    "elif marks <= 80:\n",
    "    print(\"A\")\n",
    "elif marks <= 60:\n",
    "    print(\"B\")\n",
    "elif marks < 60:\n",
    "    print(\"Fail\")\n",
    "else:\n",
    "    print(\"Invalid marks\")"
   ]
  },
  {
   "cell_type": "code",
   "execution_count": 31,
   "id": "a07c5632",
   "metadata": {},
   "outputs": [
    {
     "name": "stdout",
     "output_type": "stream",
     "text": [
      "You are eligible\n"
     ]
    }
   ],
   "source": [
    "age = 20\n",
    "if age>= 18:\n",
    "    print(\"You are eligible\")\n",
    "else :\n",
    "     print(\"You are not eligible\")"
   ]
  },
  {
   "cell_type": "markdown",
   "id": "80493eec",
   "metadata": {},
   "source": [
    "\n",
    "## Practise Questions\n",
    "- check whether the two sides of a triangle is equal or not\n",
    "- check wheter a triangle is an equivalent triangle  or isosceles triangle\n",
    "- check whether a character entered by the user  vowel or not \n",
    "- check wheter a year is a leap year or not\n",
    "- check wheter a number is a even  or odd\n",
    "- calculate the gross salary of an employee where the basic salary is 50 ,000, HRA  is 5% of basic salary and DA IS 10% of basic salary"
   ]
  },
  {
   "cell_type": "markdown",
   "id": "33bd83f8",
   "metadata": {},
   "source": [
    " # NESTED IF"
   ]
  },
  {
   "cell_type": "code",
   "execution_count": 32,
   "id": "578003ac",
   "metadata": {},
   "outputs": [],
   "source": [
    "username = input(\"Enter a usernumber:\")\n",
    "email = input(\"Enter a email:\")\n",
    "password = input(\"Enter your password:\")\n",
    "cpass = input(\"Confirm your password:\")\n",
    "if len(username)>=8 and len(username)<=20:\n",
    "    if '@' in email and len(email)>=8:\n",
    "        if len(password)>=10 and len(password) <=20:\n",
    "            if password ==cpass:\n",
    "                print(\"Registration successful😊\")\n",
    "            else:\n",
    "                print (\"Password mismatch😢 \")\n",
    "        else:\n",
    "            (\"Password must be within 10 to 20 characters😐\")\n",
    "    else:\n",
    "        print(\"Invalid email😕\")\n",
    "else:\n",
    "    print(\"Username must be between 8 to 20 characters🙃\")\n",
    "              \n",
    "\n",
    "\n"
   ]
  }
 ],
 "metadata": {
  "kernelspec": {
   "display_name": "base",
   "language": "python",
   "name": "python3"
  },
  "language_info": {
   "codemirror_mode": {
    "name": "ipython",
    "version": 3
   },
   "file_extension": ".py",
   "mimetype": "text/x-python",
   "name": "python",
   "nbconvert_exporter": "python",
   "pygments_lexer": "ipython3",
   "version": "3.13.2"
  }
 },
 "nbformat": 4,
 "nbformat_minor": 5
}
