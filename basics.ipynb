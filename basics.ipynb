{
 "cells": [
  {
   "cell_type": "code",
   "execution_count": null,
   "id": "98c1d054",
   "metadata": {},
   "outputs": [],
   "source": []
  },
  {
   "cell_type": "markdown",
   "id": "30514a77",
   "metadata": {},
   "source": [
    "heading\n",
    "# heading \n",
    "### heading\n",
    "###### heading"
   ]
  },
  {
   "cell_type": "markdown",
   "id": "0c0e0ff4",
   "metadata": {},
   "source": [
    "- point1\n",
    "- point2    \n",
    "     - subpoint1\n",
    "     - subpoint2\n",
    "     - subpoint3\n",
    "- point3"
   ]
  }
 ],
 "metadata": {
  "kernelspec": {
   "display_name": "base",
   "language": "python",
   "name": "python3"
  },
  "language_info": {
   "codemirror_mode": {
    "name": "ipython",
    "version": 3
   },
   "file_extension": ".py",
   "mimetype": "text/x-python",
   "name": "python",
   "nbconvert_exporter": "python",
   "pygments_lexer": "ipython3",
   "version": "3.13.2"
  }
 },
 "nbformat": 4,
 "nbformat_minor": 5
}
