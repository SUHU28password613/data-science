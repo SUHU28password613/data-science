{
 "cells": [
  {
   "cell_type": "code",
   "execution_count": null,
   "id": "98c1d054",
   "metadata": {},
   "outputs": [],
   "source": []
  },
  {
   "cell_type": "markdown",
   "id": "30514a77",
   "metadata": {},
   "source": [
    "heading\n",
    "# heading \n",
    "### heading\n",
    "###### heading"
   ]
  },
  {
   "cell_type": "markdown",
   "id": "0c0e0ff4",
   "metadata": {},
   "source": [
    "- point1\n",
    "- point2    \n",
    "     - subpoint1\n",
    "     - subpoint2\n",
    "     - subpoint3\n",
    "- point3"
   ]
  },
  {
   "cell_type": "code",
   "execution_count": 1,
   "id": "7235e0fd",
   "metadata": {},
   "outputs": [
    {
     "name": "stdout",
     "output_type": "stream",
     "text": [
      "15\n"
     ]
    }
   ],
   "source": [
    "a = 10\n",
    "b = 5\n",
    "sum= a+b\n",
    "print (sum)"
   ]
  },
  {
   "cell_type": "code",
   "execution_count": 2,
   "id": "df8ea0f0",
   "metadata": {},
   "outputs": [
    {
     "name": "stdout",
     "output_type": "stream",
     "text": [
      "sum of 10 and 5 is 15\n"
     ]
    }
   ],
   "source": [
    "a = 10\n",
    "b = 5\n",
    "sum= a+b\n",
    "print (\"sum of\", a , \"and\",b,\"is\" ,sum)"
   ]
  },
  {
   "cell_type": "code",
   "execution_count": 4,
   "id": "dea80712",
   "metadata": {},
   "outputs": [
    {
     "name": "stdout",
     "output_type": "stream",
     "text": [
      "sum of 10 and 5 is 15\n"
     ]
    }
   ],
   "source": [
    "a = 10\n",
    "b = 5\n",
    "sum= a+b\n",
    "print(f\"sum of {a} and {b} is {sum}\")"
   ]
  }
 ],
 "metadata": {
  "kernelspec": {
   "display_name": "base",
   "language": "python",
   "name": "python3"
  },
  "language_info": {
   "codemirror_mode": {
    "name": "ipython",
    "version": 3
   },
   "file_extension": ".py",
   "mimetype": "text/x-python",
   "name": "python",
   "nbconvert_exporter": "python",
   "pygments_lexer": "ipython3",
   "version": "3.13.2"
  }
 },
 "nbformat": 4,
 "nbformat_minor": 5
}
