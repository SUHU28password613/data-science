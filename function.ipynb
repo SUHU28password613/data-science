{
 "cells": [
  {
   "cell_type": "markdown",
   "id": "c57e4ea5",
   "metadata": {},
   "source": [
    "### User define functions\n",
    "   ##### parameterized functions\n",
    "   ##### non parameterized functions\n",
    "   ##### return function\n",
    "   ##### non return function\n",
    "   ##### default parameterized function\n",
    "   ##### lambda function\n",
    "### Built in function\n",
    "\n",
    "\n"
   ]
  },
  {
   "cell_type": "code",
   "execution_count": 22,
   "id": "f8655b5f",
   "metadata": {},
   "outputs": [
    {
     "name": "stdout",
     "output_type": "stream",
     "text": [
      "i am good thanku\n"
     ]
    }
   ],
   "source": [
    "#non parameterized function\n",
    "def greet ():# function initialize\n",
    "    print (\"Hello\")\n",
    "    print(\"How are you?\")\n",
    "print(\"i am good thanku\")\n",
    "    \n"
   ]
  },
  {
   "cell_type": "code",
   "execution_count": 23,
   "id": "e4a1e44c",
   "metadata": {},
   "outputs": [
    {
     "name": "stdout",
     "output_type": "stream",
     "text": [
      "Hello\n",
      "How are you?\n"
     ]
    }
   ],
   "source": [
    "greet() # function calling"
   ]
  },
  {
   "cell_type": "code",
   "execution_count": 24,
   "id": "8d90ecb2",
   "metadata": {},
   "outputs": [
    {
     "name": "stdout",
     "output_type": "stream",
     "text": [
      "30\n"
     ]
    }
   ],
   "source": [
    "def sum(a,b): # function with parameters\n",
    "    print(a+b)\n",
    "sum(10,20) # function calling with arguments     "
   ]
  },
  {
   "cell_type": "code",
   "execution_count": 25,
   "id": "a8fab763",
   "metadata": {},
   "outputs": [],
   "source": [
    "a = 10\n",
    "b = 20\n"
   ]
  },
  {
   "cell_type": "code",
   "execution_count": 26,
   "id": "39a2ab99",
   "metadata": {},
   "outputs": [],
   "source": [
    "def sum():\n",
    "    print(a+b)\n",
    "    "
   ]
  },
  {
   "cell_type": "code",
   "execution_count": 27,
   "id": "5e170c28",
   "metadata": {},
   "outputs": [
    {
     "name": "stdout",
     "output_type": "stream",
     "text": [
      "30\n"
     ]
    }
   ],
   "source": [
    "sum() # function calling without parameters"
   ]
  },
  {
   "cell_type": "code",
   "execution_count": 28,
   "id": "deb4d333",
   "metadata": {},
   "outputs": [
    {
     "name": "stdout",
     "output_type": "stream",
     "text": [
      "eligible for voting\n"
     ]
    }
   ],
   "source": [
    "\n",
    "def voting (age):\n",
    "    if age >= 18:\n",
    "        print(\"eligible for voting\")\n",
    "    else:\n",
    "        print(\"not eligible for voting\")\n",
    "voting(20) # function calling with argument"
   ]
  },
  {
   "cell_type": "code",
   "execution_count": 29,
   "id": "c85fefad",
   "metadata": {},
   "outputs": [
    {
     "name": "stdout",
     "output_type": "stream",
     "text": [
      "2.75\n"
     ]
    }
   ],
   "source": [
    "def average (a,b,c,d):\n",
    "    print((a+b+c+d)/4) \n",
    "average(2,3,3,3)   \n",
    "    "
   ]
  },
  {
   "cell_type": "code",
   "execution_count": 30,
   "id": "20e20e9c",
   "metadata": {},
   "outputs": [
    {
     "name": "stdout",
     "output_type": "stream",
     "text": [
      "4.25\n"
     ]
    }
   ],
   "source": [
    "def avg(a,b,c,d):\n",
    "    return (a+b+c+d)/4\n",
    "\n",
    "average = avg(2,4,5,6)\n",
    "print(average)"
   ]
  },
  {
   "cell_type": "code",
   "execution_count": 31,
   "id": "23df5a6b",
   "metadata": {},
   "outputs": [
    {
     "name": "stdout",
     "output_type": "stream",
     "text": [
      "4.25\n"
     ]
    }
   ],
   "source": [
    "print(average)"
   ]
  },
  {
   "cell_type": "code",
   "execution_count": 32,
   "id": "a42bc8e2",
   "metadata": {},
   "outputs": [
    {
     "name": "stdout",
     "output_type": "stream",
     "text": [
      "i LoveUSA\n",
      "i Lovelondon\n",
      "i Lovelondon\n"
     ]
    }
   ],
   "source": [
    "def myCountry(country):\n",
    "    return f'i Love{country}'\n",
    "\n",
    "print(myCountry('USA'))\n",
    "print(myCountry('london'))\n",
    "print(myCountry('london'))\n",
    "\n",
    "\n",
    "\n",
    "    "
   ]
  },
  {
   "cell_type": "code",
   "execution_count": 33,
   "id": "b8b70235",
   "metadata": {},
   "outputs": [
    {
     "data": {
      "text/plain": [
       "256"
      ]
     },
     "execution_count": 33,
     "metadata": {},
     "output_type": "execute_result"
    }
   ],
   "source": [
    "def square(a):\n",
    "    return a**a\n",
    "square(4)"
   ]
  },
  {
   "cell_type": "code",
   "execution_count": 34,
   "id": "e0a51182",
   "metadata": {},
   "outputs": [
    {
     "name": "stdout",
     "output_type": "stream",
     "text": [
      "27\n"
     ]
    }
   ],
   "source": [
    "square = lambda a: a**a\n",
    "print(square(3))\n"
   ]
  },
  {
   "cell_type": "code",
   "execution_count": 41,
   "id": "c397a989",
   "metadata": {},
   "outputs": [
    {
     "name": "stdout",
     "output_type": "stream",
     "text": [
      "even\n"
     ]
    }
   ],
   "source": [
    "def number (num):\n",
    "    if num %2 == 0:\n",
    "        print(\"even\")\n",
    "    else:\n",
    "        print(\"odd\")\n",
    "number(98)"
   ]
  }
 ],
 "metadata": {
  "kernelspec": {
   "display_name": "base",
   "language": "python",
   "name": "python3"
  },
  "language_info": {
   "codemirror_mode": {
    "name": "ipython",
    "version": 3
   },
   "file_extension": ".py",
   "mimetype": "text/x-python",
   "name": "python",
   "nbconvert_exporter": "python",
   "pygments_lexer": "ipython3",
   "version": "3.13.2"
  }
 },
 "nbformat": 4,
 "nbformat_minor": 5
}
