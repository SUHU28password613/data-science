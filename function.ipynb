{
 "cells": [
  {
   "cell_type": "markdown",
   "id": "c57e4ea5",
   "metadata": {},
   "source": [
    "#####   User define functions\n",
    "   - parameterized function\n",
    "   - non parameterized function\n",
    "   - return function\n",
    "   - non return function\n",
    "   - default parameterized function\n",
    "   - lambda function\n",
    "\n",
    "#####    Built in functions\n",
    "\n",
    "\n",
    "\n",
    "\n",
    "\n"
   ]
  },
  {
   "cell_type": "code",
   "execution_count": 110,
   "id": "f8655b5f",
   "metadata": {},
   "outputs": [
    {
     "name": "stdout",
     "output_type": "stream",
     "text": [
      "i am good thanku\n"
     ]
    }
   ],
   "source": [
    "#non parameterized function\n",
    "def greet ():# function initialize\n",
    "    print (\"Hello\")\n",
    "    print(\"How are you?\")\n",
    "print(\"i am good thanku\")\n",
    "    \n"
   ]
  },
  {
   "cell_type": "code",
   "execution_count": 111,
   "id": "e4a1e44c",
   "metadata": {},
   "outputs": [
    {
     "name": "stdout",
     "output_type": "stream",
     "text": [
      "Hello\n",
      "How are you?\n"
     ]
    }
   ],
   "source": [
    "greet() # function calling"
   ]
  },
  {
   "cell_type": "code",
   "execution_count": 112,
   "id": "8d90ecb2",
   "metadata": {},
   "outputs": [
    {
     "name": "stdout",
     "output_type": "stream",
     "text": [
      "30\n"
     ]
    }
   ],
   "source": [
    "def sum(a,b): # function with parameters\n",
    "    print(a+b)\n",
    "sum(10,20) # function calling with arguments     "
   ]
  },
  {
   "cell_type": "code",
   "execution_count": 113,
   "id": "a8fab763",
   "metadata": {},
   "outputs": [],
   "source": [
    "a = 10\n",
    "b = 20\n"
   ]
  },
  {
   "cell_type": "code",
   "execution_count": 114,
   "id": "39a2ab99",
   "metadata": {},
   "outputs": [],
   "source": [
    "def sum():\n",
    "    print(a+b)\n",
    "    "
   ]
  },
  {
   "cell_type": "code",
   "execution_count": 115,
   "id": "5e170c28",
   "metadata": {},
   "outputs": [
    {
     "name": "stdout",
     "output_type": "stream",
     "text": [
      "30\n"
     ]
    }
   ],
   "source": [
    "sum() # function calling without parameters"
   ]
  },
  {
   "cell_type": "code",
   "execution_count": 116,
   "id": "deb4d333",
   "metadata": {},
   "outputs": [
    {
     "name": "stdout",
     "output_type": "stream",
     "text": [
      "eligible for voting\n"
     ]
    }
   ],
   "source": [
    "\n",
    "def voting (age):\n",
    "    if age >= 18:\n",
    "        print(\"eligible for voting\")\n",
    "    else:\n",
    "        print(\"not eligible for voting\")\n",
    "voting(20) # function calling with argument"
   ]
  },
  {
   "cell_type": "code",
   "execution_count": 117,
   "id": "c85fefad",
   "metadata": {},
   "outputs": [
    {
     "name": "stdout",
     "output_type": "stream",
     "text": [
      "2.75\n"
     ]
    }
   ],
   "source": [
    "def average (a,b,c,d):\n",
    "    print((a+b+c+d)/4) \n",
    "average(2,3,3,3)   \n",
    "    "
   ]
  },
  {
   "cell_type": "code",
   "execution_count": 118,
   "id": "20e20e9c",
   "metadata": {},
   "outputs": [
    {
     "name": "stdout",
     "output_type": "stream",
     "text": [
      "4.25\n"
     ]
    }
   ],
   "source": [
    "def avg(a,b,c,d):\n",
    "    return (a+b+c+d)/4\n",
    "\n",
    "average = avg(2,4,5,6)\n",
    "print(average)"
   ]
  },
  {
   "cell_type": "code",
   "execution_count": 119,
   "id": "23df5a6b",
   "metadata": {},
   "outputs": [
    {
     "name": "stdout",
     "output_type": "stream",
     "text": [
      "4.25\n"
     ]
    }
   ],
   "source": [
    "print(average)"
   ]
  },
  {
   "cell_type": "code",
   "execution_count": 120,
   "id": "a42bc8e2",
   "metadata": {},
   "outputs": [
    {
     "name": "stdout",
     "output_type": "stream",
     "text": [
      "i LoveUSA\n",
      "i Lovelondon\n",
      "i Lovelondon\n"
     ]
    }
   ],
   "source": [
    "def myCountry(country):\n",
    "    return f'i Love{country}'\n",
    "\n",
    "print(myCountry('USA'))\n",
    "print(myCountry('london'))\n",
    "print(myCountry('london'))\n",
    "\n",
    "\n",
    "\n",
    "    "
   ]
  },
  {
   "cell_type": "code",
   "execution_count": 121,
   "id": "b8b70235",
   "metadata": {},
   "outputs": [
    {
     "data": {
      "text/plain": [
       "256"
      ]
     },
     "execution_count": 121,
     "metadata": {},
     "output_type": "execute_result"
    }
   ],
   "source": [
    "def square(a):\n",
    "    return a**a\n",
    "square(4)"
   ]
  },
  {
   "cell_type": "code",
   "execution_count": 122,
   "id": "e0a51182",
   "metadata": {},
   "outputs": [
    {
     "name": "stdout",
     "output_type": "stream",
     "text": [
      "27\n"
     ]
    }
   ],
   "source": [
    "square = lambda a: a**a\n",
    "print(square(3))\n"
   ]
  },
  {
   "cell_type": "code",
   "execution_count": 123,
   "id": "c397a989",
   "metadata": {},
   "outputs": [
    {
     "name": "stdout",
     "output_type": "stream",
     "text": [
      "even\n"
     ]
    }
   ],
   "source": [
    "def number (num):\n",
    "    if num %2 == 0:\n",
    "        print(\"even\")\n",
    "    else:\n",
    "        print(\"odd\")\n",
    "number(98)"
   ]
  },
  {
   "cell_type": "markdown",
   "id": "0225d4b6",
   "metadata": {},
   "source": [
    "#### Assignment for function \n",
    "- Check a number is prime or not\n",
    "- Convert temperature celcius to fahrenheit\n",
    "- Find maximum of three numbers\n",
    "- Calculate factorial\n",
    "- Reverse of a string\n",
    "- Count vowel in a string\n",
    "- Calculate BMI(BODY MASS INDEX)\n",
    "\n",
    "\n"
   ]
  },
  {
   "cell_type": "code",
   "execution_count": 124,
   "id": "26d13c5e",
   "metadata": {},
   "outputs": [
    {
     "name": "stdout",
     "output_type": "stream",
     "text": [
      "17 is a prime number.\n"
     ]
    }
   ],
   "source": [
    "def is_prime(n):\n",
    "    if n <= 1:\n",
    "        return False  \n",
    "    for i in range(2, int(n**0.5) + 1):  \n",
    "        if n % i == 0:\n",
    "            return False\n",
    "    return True\n",
    "\n",
    "\n",
    "num = 17\n",
    "if is_prime(num):\n",
    "    print(f\"{num} is a prime number.\")\n",
    "else:\n",
    "    print(f\"{num} is not a prime number.\")"
   ]
  },
  {
   "cell_type": "code",
   "execution_count": 125,
   "id": "58b6025f",
   "metadata": {},
   "outputs": [
    {
     "name": "stdout",
     "output_type": "stream",
     "text": [
      "25°C is equal to 77.0°F\n"
     ]
    }
   ],
   "source": [
    "def celsius_to_fahrenheit(c):\n",
    "    return (c * 9/5) + 32\n",
    "\n",
    "\n",
    "temp_c = 25\n",
    "temp_f = celsius_to_fahrenheit(temp_c)\n",
    "print(f\"{temp_c}°C is equal to {temp_f}°F\")"
   ]
  },
  {
   "cell_type": "code",
   "execution_count": 126,
   "id": "2266c53a",
   "metadata": {},
   "outputs": [
    {
     "name": "stdout",
     "output_type": "stream",
     "text": [
      "The maximum number is: 25\n"
     ]
    }
   ],
   "source": [
    "\n",
    "def find_max(a, b, c):\n",
    "    if a >= b and a >= c:\n",
    "        return a\n",
    "    elif b >= a and b >= c:\n",
    "        return b\n",
    "    else:\n",
    "        return c\n",
    "\n",
    "\n",
    "num1 = 10\n",
    "num2 = 25\n",
    "num3 = 15\n",
    "\n",
    "print(\"The maximum number is:\", find_max(num1, num2, num3))"
   ]
  },
  {
   "cell_type": "code",
   "execution_count": 127,
   "id": "e47640d5",
   "metadata": {},
   "outputs": [
    {
     "name": "stdout",
     "output_type": "stream",
     "text": [
      "Factorial of 5 is 120\n"
     ]
    }
   ],
   "source": [
    "def factorial(n):\n",
    "    result = 1\n",
    "    for i in range(1, n + 1):\n",
    "        result *= i\n",
    "    return result\n",
    "\n",
    "\n",
    "num = 5\n",
    "print(f\"Factorial of {num} is {factorial(num)}\")"
   ]
  },
  {
   "cell_type": "code",
   "execution_count": 128,
   "id": "99a4e5ed",
   "metadata": {},
   "outputs": [
    {
     "name": "stdout",
     "output_type": "stream",
     "text": [
      "Reversed string: olleh\n"
     ]
    }
   ],
   "source": [
    "def reverse_string(s):\n",
    "    return s[::-1]\n",
    "\n",
    "\n",
    "text = \"hello\"\n",
    "reversed_text = reverse_string(text)\n",
    "print(f\"Reversed string: {reversed_text}\")"
   ]
  },
  {
   "cell_type": "code",
   "execution_count": 129,
   "id": "51634b81",
   "metadata": {},
   "outputs": [
    {
     "name": "stdout",
     "output_type": "stream",
     "text": [
      "Number of vowels: 3\n"
     ]
    }
   ],
   "source": [
    "def count_vowels(s):\n",
    "    vowels = 'aeiouAEIOU'\n",
    "    count = 0\n",
    "    for char in s:\n",
    "        if char in vowels:\n",
    "            count += 1\n",
    "    return count\n",
    "\n",
    "text = \"Hello World\"\n",
    "vowel_count = count_vowels(text)\n",
    "print(f\"Number of vowels: {vowel_count}\")"
   ]
  },
  {
   "cell_type": "code",
   "execution_count": 130,
   "id": "2490b0c7",
   "metadata": {},
   "outputs": [
    {
     "name": "stdout",
     "output_type": "stream",
     "text": [
      "Your BMI is: 22.86\n"
     ]
    }
   ],
   "source": [
    "def calculate_bmi(weight, height):\n",
    "    bmi = weight / (height ** 2)\n",
    "    return bmi\n",
    "\n",
    "\n",
    "weight_kg = 70\n",
    "height_m = 1.75\n",
    "bmi = calculate_bmi(weight_kg, height_m)\n",
    "print(f\"Your BMI is: {bmi:.2f}\")"
   ]
  },
  {
   "cell_type": "code",
   "execution_count": null,
   "id": "b3be7535",
   "metadata": {},
   "outputs": [],
   "source": []
  }
 ],
 "metadata": {
  "kernelspec": {
   "display_name": "base",
   "language": "python",
   "name": "python3"
  },
  "language_info": {
   "codemirror_mode": {
    "name": "ipython",
    "version": 3
   },
   "file_extension": ".py",
   "mimetype": "text/x-python",
   "name": "python",
   "nbconvert_exporter": "python",
   "pygments_lexer": "ipython3",
   "version": "3.13.2"
  }
 },
 "nbformat": 4,
 "nbformat_minor": 5
}
