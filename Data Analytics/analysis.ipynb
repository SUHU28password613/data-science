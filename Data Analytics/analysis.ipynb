{
 "cells": [
  {
   "cell_type": "code",
   "execution_count": 3,
   "id": "6c9897f3",
   "metadata": {},
   "outputs": [
    {
     "ename": "ModuleNotFoundError",
     "evalue": "No module named 'pandas'",
     "output_type": "error",
     "traceback": [
      "\u001b[31m---------------------------------------------------------------------------\u001b[39m",
      "\u001b[31mModuleNotFoundError\u001b[39m                       Traceback (most recent call last)",
      "\u001b[36mCell\u001b[39m\u001b[36m \u001b[39m\u001b[32mIn[3]\u001b[39m\u001b[32m, line 1\u001b[39m\n\u001b[32m----> \u001b[39m\u001b[32m1\u001b[39m \u001b[38;5;28;01mimport\u001b[39;00m\u001b[38;5;250m \u001b[39m\u001b[34;01mpandas\u001b[39;00m\u001b[38;5;250m \u001b[39m\u001b[38;5;28;01mas\u001b[39;00m\u001b[38;5;250m \u001b[39m\u001b[34;01mpd\u001b[39;00m\n\u001b[32m      2\u001b[39m \u001b[38;5;28;01mimport\u001b[39;00m\u001b[38;5;250m \u001b[39m\u001b[34;01mnumpy\u001b[39;00m\u001b[38;5;250m \u001b[39m\u001b[38;5;28;01mas\u001b[39;00m\u001b[38;5;250m \u001b[39m\u001b[34;01mnp\u001b[39;00m\n\u001b[32m      3\u001b[39m \u001b[38;5;28;01mimport\u001b[39;00m\u001b[38;5;250m \u001b[39m\u001b[34;01mseaborn\u001b[39;00m\u001b[38;5;250m \u001b[39m\u001b[38;5;28;01mas\u001b[39;00m\u001b[38;5;250m \u001b[39m\u001b[34;01msns\u001b[39;00m\n",
      "\u001b[31mModuleNotFoundError\u001b[39m: No module named 'pandas'"
     ]
    }
   ],
   "source": [
    "import pandas as pd\n",
    "import numpy as np\n",
    "import seaborn as sns"
   ]
  },
  {
   "cell_type": "markdown",
   "id": "c808e3eb",
   "metadata": {},
   "source": [
    "-cretaing dataset\n",
    "   -dictionary of items\n",
    "   -list of dictionary\n",
    "   -importing csv xlsx and json files\n",
    "#basic insights of data\n",
    "#selection of data \n",
    "#cleaning and manipulation data"
   ]
  },
  {
   "cell_type": "code",
   "execution_count": null,
   "id": "ad6f7d2e",
   "metadata": {},
   "outputs": [],
   "source": [
    "movies= {\n",
    "    'title' : ['DDLJ','RRR','PK','YJHD','SOTY'],\n",
    "    'rating': [5.0,4.5,3.5,4.8,4.5],\n",
    "    'year': [1980,2022,2023,2020,2021]\n",
    "}\n",
    "pd.DataFrame(movies)"
   ]
  },
  {
   "cell_type": "code",
   "execution_count": null,
   "id": "25eee33d",
   "metadata": {},
   "outputs": [],
   "source": [
    "df =pd.read_csv('kc_house_data.csv')\n",
    "df"
   ]
  },
  {
   "cell_type": "code",
   "execution_count": null,
   "id": "003bfa28",
   "metadata": {},
   "outputs": [],
   "source": [
    "df.head()"
   ]
  },
  {
   "cell_type": "code",
   "execution_count": null,
   "id": "0b7a5b18",
   "metadata": {},
   "outputs": [],
   "source": [
    "df.tail()"
   ]
  },
  {
   "cell_type": "code",
   "execution_count": null,
   "id": "5e10fc4f",
   "metadata": {},
   "outputs": [],
   "source": [
    "df.sample(5)"
   ]
  },
  {
   "cell_type": "code",
   "execution_count": null,
   "id": "2b7f1097",
   "metadata": {},
   "outputs": [],
   "source": [
    "df.isnull().sum() #for finding null values and sum adds all the null values"
   ]
  },
  {
   "cell_type": "code",
   "execution_count": null,
   "id": "b9df6bd6",
   "metadata": {},
   "outputs": [],
   "source": [
    "df.describe()"
   ]
  },
  {
   "cell_type": "markdown",
   "id": "6213b749",
   "metadata": {},
   "source": [
    "- Row wise selection\n",
    "   - iloc()-index based selection\n",
    "   - loc() - label based selection\n",
    "-Column wise selection\n",
    "  #single column selection\n",
    "    - dictionary like selection\n",
    "    -object like selection\n",
    "  #multiple column selection\n",
    "    -dictionary like selection"
   ]
  },
  {
   "cell_type": "code",
   "execution_count": null,
   "id": "a72915f4",
   "metadata": {},
   "outputs": [],
   "source": []
  }
 ],
 "metadata": {
  "kernelspec": {
   "display_name": "base",
   "language": "python",
   "name": "python3"
  },
  "language_info": {
   "codemirror_mode": {
    "name": "ipython",
    "version": 3
   },
   "file_extension": ".py",
   "mimetype": "text/x-python",
   "name": "python",
   "nbconvert_exporter": "python",
   "pygments_lexer": "ipython3",
   "version": "3.13.2"
  }
 },
 "nbformat": 4,
 "nbformat_minor": 5
}
